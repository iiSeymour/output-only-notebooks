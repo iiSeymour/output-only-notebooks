{
 "metadata": {
  "name": "",
  "signature": "sha256:5bca075134488b2e56c9af49c0ed25d216306b3308c7fbf655fcd47c5f5e5681"
 },
 "nbformat": 3,
 "nbformat_minor": 0,
 "worksheets": [
  {
   "cells": [
    {
     "cell_type": "markdown",
     "metadata": {},
     "source": [
      "# Output Only Mode\n",
      "\n",
      "Demo of using widgets to switch a notebook into output only mode where the menus and input cells are hidden."
     ]
    },
    {
     "cell_type": "code",
     "collapsed": false,
     "input": [
      "from IPython.display import display, HTML, Javascript\n",
      "from IPython.html.widgets import ButtonWidget, CheckboxWidget"
     ],
     "language": "python",
     "metadata": {},
     "outputs": [],
     "prompt_number": 1
    },
    {
     "cell_type": "code",
     "collapsed": false,
     "input": [
      "# instantiate the checkbox used to toggle DOM elements\n",
      "hide_code = CheckboxWidget(description='Output Only Mode')\n",
      "\n",
      "def toggle_elements(name, checked):\n",
      "    \"\"\"\n",
      "    Hide/Show a list of DOM elements\n",
      "    \"\"\"\n",
      "    elements =  ['div.input', 'button.close', 'div#header', 'div#menubar', 'div#maintoolbar']\n",
      "    \n",
      "    if checked:\n",
      "        display(Javascript(''.join(\"$('%s').hide();\" % e for e in elements))) \n",
      "        display(HTML(\"<style>div.cell.selected{border: none}</style>\"))\n",
      "    else:\n",
      "        display(Javascript(''.join(\"$('%s').show();\" % e for e in elements))) \n",
      "\n",
      "hide_code.on_trait_change(toggle_elements, 'value')\n",
      "display(hide_code)"
     ],
     "language": "python",
     "metadata": {},
     "outputs": [
      {
       "javascript": [
        "$('div.input').hide();$('button.close').hide();$('div#header').hide();$('div#menubar').hide();$('div#maintoolbar').hide();"
       ],
       "metadata": {},
       "output_type": "display_data",
       "text": [
        "<IPython.core.display.Javascript at 0x107e55ad0>"
       ]
      },
      {
       "html": [
        "<style>div.cell.selected{border: none}</style>"
       ],
       "metadata": {},
       "output_type": "display_data",
       "text": [
        "<IPython.core.display.HTML at 0x107e55690>"
       ]
      },
      {
       "javascript": [
        "$('div.input').show();$('button.close').show();$('div#header').show();$('div#menubar').show();$('div#maintoolbar').show();"
       ],
       "metadata": {},
       "output_type": "display_data",
       "text": [
        "<IPython.core.display.Javascript at 0x107e55690>"
       ]
      },
      {
       "javascript": [
        "$('div.input').hide();$('button.close').hide();$('div#header').hide();$('div#menubar').hide();$('div#maintoolbar').hide();"
       ],
       "metadata": {},
       "output_type": "display_data",
       "text": [
        "<IPython.core.display.Javascript at 0x107e55550>"
       ]
      },
      {
       "html": [
        "<style>div.cell.selected{border: none}</style>"
       ],
       "metadata": {},
       "output_type": "display_data",
       "text": [
        "<IPython.core.display.HTML at 0x107e555d0>"
       ]
      }
     ],
     "prompt_number": 2
    },
    {
     "cell_type": "code",
     "collapsed": false,
     "input": [
      "# instantiate a couple of buttons for running/clearing the notebook\n",
      "run = ButtonWidget(description='Run Notebook')\n",
      "clear = ButtonWidget(description='Clear Notebook')\n",
      "\n",
      "def run_below(b):\n",
      "    \"\"\"\n",
      "    Execute all the notebook cells below\n",
      "    \"\"\"\n",
      "    display(Javascript('IPython.notebook.execute_cells_below()'))\n",
      "  \n",
      "def clear_output(b):\n",
      "    \"\"\"\n",
      "    Cell all cell output\n",
      "    \"\"\"\n",
      "    display(Javascript('IPython.notebook.clear_all_output()'))    \n",
      "    \n",
      "run.on_click(run_below)\n",
      "clear.on_click(clear_output)\n",
      "\n",
      "run.set_css(\"margin-bottom\", \"5px\")\n",
      "display(run)\n",
      "display(clear)"
     ],
     "language": "python",
     "metadata": {},
     "outputs": [],
     "prompt_number": 3
    },
    {
     "cell_type": "code",
     "collapsed": false,
     "input": [
      "# normal notebook starts here\n",
      "import numpy as np\n",
      "plt.hist(np.random.randn(10000), color=np.random.rand(3,1), bins=100)\n",
      "plt.tight_layout(rect=[0, 0, 2.4, 0.8])\n",
      "plt.show()"
     ],
     "language": "python",
     "metadata": {},
     "outputs": [
      {
       "metadata": {},
       "output_type": "display_data",
       "png": "[encoded data removed]",
       "text": [
        "<matplotlib.figure.Figure at 0x107a0ef10>"
       ]
      }
     ],
     "prompt_number": 4
    }
   ],
   "metadata": {}
  }
 ]
}